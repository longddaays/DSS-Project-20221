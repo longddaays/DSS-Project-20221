{
 "cells": [
  {
   "cell_type": "markdown",
   "metadata": {},
   "source": [
    "# Preprocessing"
   ]
  },
  {
   "cell_type": "code",
   "execution_count": null,
   "metadata": {},
   "outputs": [],
   "source": [
    "import pandas as pd\n",
    "data = pd.read_csv('data/foodytest_8_1.csv')"
   ]
  },
  {
   "cell_type": "code",
   "execution_count": null,
   "metadata": {},
   "outputs": [
    {
     "data": {
      "text/plain": [
       "name                 0\n",
       "price                0\n",
       "avgpoint             0\n",
       "category             0\n",
       "location             0\n",
       "num_reviews          0\n",
       "dish_categories      0\n",
       "time_open            8\n",
       "dieu_hoa             0\n",
       "bong_da              0\n",
       "wifi                 0\n",
       "cuisines           220\n",
       "dtype: int64"
      ]
     },
     "metadata": {},
     "output_type": "display_data"
    }
   ],
   "source": [
    "data.isna().sum()"
   ]
  },
  {
   "cell_type": "code",
   "execution_count": null,
   "metadata": {},
   "outputs": [],
   "source": [
    "data = data.dropna()"
   ]
  },
  {
   "cell_type": "code",
   "execution_count": null,
   "metadata": {},
   "outputs": [
    {
     "data": {
      "text/plain": [
       "687"
      ]
     },
     "metadata": {},
     "output_type": "display_data"
    }
   ],
   "source": [
    "data['cuisines'].notna().sum()"
   ]
  },
  {
   "cell_type": "code",
   "execution_count": null,
   "metadata": {},
   "outputs": [
    {
     "data": {
      "text/html": [
       "<div>\n",
       "<style scoped>\n",
       "    .dataframe tbody tr th:only-of-type {\n",
       "        vertical-align: middle;\n",
       "    }\n",
       "\n",
       "    .dataframe tbody tr th {\n",
       "        vertical-align: top;\n",
       "    }\n",
       "\n",
       "    .dataframe thead th {\n",
       "        text-align: right;\n",
       "    }\n",
       "</style>\n",
       "<table border=\"1\" class=\"dataframe\">\n",
       "  <thead>\n",
       "    <tr style=\"text-align: right;\">\n",
       "      <th></th>\n",
       "      <th>name</th>\n",
       "      <th>price</th>\n",
       "      <th>avgpoint</th>\n",
       "      <th>category</th>\n",
       "      <th>location</th>\n",
       "      <th>num_reviews</th>\n",
       "      <th>dish_categories</th>\n",
       "      <th>time_open</th>\n",
       "      <th>dieu_hoa</th>\n",
       "      <th>bong_da</th>\n",
       "      <th>wifi</th>\n",
       "      <th>cuisines</th>\n",
       "    </tr>\n",
       "  </thead>\n",
       "  <tbody>\n",
       "    <tr>\n",
       "      <th>0</th>\n",
       "      <td>Sushi Garden</td>\n",
       "      <td>50.000đ - 150.000đ</td>\n",
       "      <td>7.2</td>\n",
       "      <td>Quán ăn</td>\n",
       "      <td>310 Nguyễn Trãi, P. Thanh Xuân Trung, Quận Tha...</td>\n",
       "      <td>67</td>\n",
       "      <td>Lẩu, Sushi &amp; Sashimi, Salad, Ăn vặt - Ăn nhẹ, ...</td>\n",
       "      <td>10:00 - 22:00</td>\n",
       "      <td>1</td>\n",
       "      <td>0</td>\n",
       "      <td>1</td>\n",
       "      <td>Set Cá Hồi, Lươn-159,000|Set Nigiri Tổng Hợp-1...</td>\n",
       "    </tr>\n",
       "    <tr>\n",
       "      <th>1</th>\n",
       "      <td>Cuốn N Roll Restaurant - Giảng Võ</td>\n",
       "      <td>40.000đ - 468.000đ</td>\n",
       "      <td>7.1</td>\n",
       "      <td>Nhà hàng</td>\n",
       "      <td>Tầng 3 Tòa Nhà D2, Giảng Võ, P. Giảng Võ, Quận...</td>\n",
       "      <td>64</td>\n",
       "      <td>Heo quay, Bún, Lẩu, Món Huế, Ăn vặt - Ăn nhẹ</td>\n",
       "      <td>17:00 - 21:30 | 09:00 - 13:30</td>\n",
       "      <td>1</td>\n",
       "      <td>0</td>\n",
       "      <td>1</td>\n",
       "      <td>Giỏ Quà Tết Yêu Thương-458,000|Cốt Lẩu Chua Ca...</td>\n",
       "    </tr>\n",
       "  </tbody>\n",
       "</table>\n",
       "</div>"
      ],
      "text/plain": [
       "                                name               price  avgpoint  category  \\\n",
       "0                       Sushi Garden  50.000đ - 150.000đ       7.2   Quán ăn   \n",
       "1  Cuốn N Roll Restaurant - Giảng Võ  40.000đ - 468.000đ       7.1  Nhà hàng   \n",
       "\n",
       "                                            location  num_reviews  \\\n",
       "0  310 Nguyễn Trãi, P. Thanh Xuân Trung, Quận Tha...           67   \n",
       "1  Tầng 3 Tòa Nhà D2, Giảng Võ, P. Giảng Võ, Quận...           64   \n",
       "\n",
       "                                     dish_categories  \\\n",
       "0  Lẩu, Sushi & Sashimi, Salad, Ăn vặt - Ăn nhẹ, ...   \n",
       "1       Heo quay, Bún, Lẩu, Món Huế, Ăn vặt - Ăn nhẹ   \n",
       "\n",
       "                        time_open  dieu_hoa  bong_da  wifi  \\\n",
       "0                   10:00 - 22:00         1        0     1   \n",
       "1   17:00 - 21:30 | 09:00 - 13:30         1        0     1   \n",
       "\n",
       "                                            cuisines  \n",
       "0  Set Cá Hồi, Lươn-159,000|Set Nigiri Tổng Hợp-1...  \n",
       "1  Giỏ Quà Tết Yêu Thương-458,000|Cốt Lẩu Chua Ca...  "
      ]
     },
     "metadata": {},
     "output_type": "display_data"
    }
   ],
   "source": [
    "data.head(2)"
   ]
  },
  {
   "cell_type": "code",
   "execution_count": null,
   "metadata": {},
   "outputs": [
    {
     "data": {
      "text/html": [
       "<div>\n",
       "<style scoped>\n",
       "    .dataframe tbody tr th:only-of-type {\n",
       "        vertical-align: middle;\n",
       "    }\n",
       "\n",
       "    .dataframe tbody tr th {\n",
       "        vertical-align: top;\n",
       "    }\n",
       "\n",
       "    .dataframe thead th {\n",
       "        text-align: right;\n",
       "    }\n",
       "</style>\n",
       "<table border=\"1\" class=\"dataframe\">\n",
       "  <thead>\n",
       "    <tr style=\"text-align: right;\">\n",
       "      <th></th>\n",
       "      <th>name</th>\n",
       "      <th>price</th>\n",
       "      <th>avgpoint</th>\n",
       "      <th>category</th>\n",
       "      <th>location</th>\n",
       "      <th>num_reviews</th>\n",
       "      <th>dish_categories</th>\n",
       "      <th>time_open</th>\n",
       "      <th>dieu_hoa</th>\n",
       "      <th>bong_da</th>\n",
       "      <th>wifi</th>\n",
       "      <th>cuisines</th>\n",
       "      <th>min_price</th>\n",
       "      <th>max_price</th>\n",
       "      <th>avg_price</th>\n",
       "      <th>menu</th>\n",
       "    </tr>\n",
       "  </thead>\n",
       "  <tbody>\n",
       "    <tr>\n",
       "      <th>0</th>\n",
       "      <td>Sushi Garden</td>\n",
       "      <td>50000 - 150000</td>\n",
       "      <td>7.2</td>\n",
       "      <td>Quán ăn</td>\n",
       "      <td>310 Nguyễn Trãi, P. Thanh Xuân Trung, Quận Tha...</td>\n",
       "      <td>67</td>\n",
       "      <td>Lẩu, Sushi &amp; Sashimi, Salad, Ăn vặt - Ăn nhẹ, ...</td>\n",
       "      <td>10:00 - 22:00</td>\n",
       "      <td>1</td>\n",
       "      <td>0</td>\n",
       "      <td>1</td>\n",
       "      <td>Lẩu Sushi &amp; Sashimi Salad Ăn vặt  Ăn nhẹ Cơm N...</td>\n",
       "      <td>50000</td>\n",
       "      <td>150000</td>\n",
       "      <td>100000.0</td>\n",
       "      <td>Set Cá Hồi, Lươn-159,000|Set Nigiri Tổng Hợp-1...</td>\n",
       "    </tr>\n",
       "    <tr>\n",
       "      <th>1</th>\n",
       "      <td>Cuốn N Roll Restaurant - Giảng Võ</td>\n",
       "      <td>40000 - 468000</td>\n",
       "      <td>7.1</td>\n",
       "      <td>Nhà hàng</td>\n",
       "      <td>Tầng 3 Tòa Nhà D2, Giảng Võ, P. Giảng Võ, Quận...</td>\n",
       "      <td>64</td>\n",
       "      <td>Heo quay, Bún, Lẩu, Món Huế, Ăn vặt - Ăn nhẹ</td>\n",
       "      <td>17:00 - 21:30 | 09:00 - 13:30</td>\n",
       "      <td>1</td>\n",
       "      <td>0</td>\n",
       "      <td>1</td>\n",
       "      <td>Heo quay Bún Lẩu Món Huế Ăn vặt  Ăn nhẹ; Giỏ Q...</td>\n",
       "      <td>40000</td>\n",
       "      <td>468000</td>\n",
       "      <td>254000.0</td>\n",
       "      <td>Giỏ Quà Tết Yêu Thương-458,000|Cốt Lẩu Chua Ca...</td>\n",
       "    </tr>\n",
       "  </tbody>\n",
       "</table>\n",
       "</div>"
      ],
      "text/plain": [
       "                                name           price  avgpoint  category  \\\n",
       "0                       Sushi Garden  50000 - 150000       7.2   Quán ăn   \n",
       "1  Cuốn N Roll Restaurant - Giảng Võ  40000 - 468000       7.1  Nhà hàng   \n",
       "\n",
       "                                            location  num_reviews  \\\n",
       "0  310 Nguyễn Trãi, P. Thanh Xuân Trung, Quận Tha...           67   \n",
       "1  Tầng 3 Tòa Nhà D2, Giảng Võ, P. Giảng Võ, Quận...           64   \n",
       "\n",
       "                                     dish_categories  \\\n",
       "0  Lẩu, Sushi & Sashimi, Salad, Ăn vặt - Ăn nhẹ, ...   \n",
       "1       Heo quay, Bún, Lẩu, Món Huế, Ăn vặt - Ăn nhẹ   \n",
       "\n",
       "                        time_open  dieu_hoa  bong_da  wifi  \\\n",
       "0                   10:00 - 22:00         1        0     1   \n",
       "1   17:00 - 21:30 | 09:00 - 13:30         1        0     1   \n",
       "\n",
       "                                            cuisines  min_price  max_price  \\\n",
       "0  Lẩu Sushi & Sashimi Salad Ăn vặt  Ăn nhẹ Cơm N...      50000     150000   \n",
       "1  Heo quay Bún Lẩu Món Huế Ăn vặt  Ăn nhẹ; Giỏ Q...      40000     468000   \n",
       "\n",
       "   avg_price                                               menu  \n",
       "0   100000.0  Set Cá Hồi, Lươn-159,000|Set Nigiri Tổng Hợp-1...  \n",
       "1   254000.0  Giỏ Quà Tết Yêu Thương-458,000|Cốt Lẩu Chua Ca...  "
      ]
     },
     "metadata": {},
     "output_type": "display_data"
    }
   ],
   "source": [
    "data['price'] = data['price'].str.replace(\"đ\",\"\")\n",
    "data['price'] = data['price'].str.replace(\".\",\"\")\n",
    "data[['min_price','max_price']] = data['price'].str.split('-',expand=True)\n",
    "data['max_price'] = data['max_price'].astype(int)\n",
    "data['min_price'] = data['min_price'].astype(int)\n",
    "data['avg_price'] = data[['min_price', 'max_price']].mean(axis=1)\n",
    "\n",
    "data['menu'] = data['cuisines'].copy()\n",
    "data['cuisines'] = data['dish_categories'] + '; ' + data['cuisines']\n",
    "data['cuisines'] = data['cuisines'].str.replace('|','')\n",
    "data['cuisines'] = data['cuisines'].str.replace('-','')\n",
    "data['cuisines'] = data['cuisines'].str.replace(',','')\n",
    "data['cuisines'] = data['cuisines'].str.replace('\\d+','')\n",
    "data.head(2)"
   ]
  },
  {
   "cell_type": "code",
   "execution_count": null,
   "metadata": {},
   "outputs": [],
   "source": [
    "from text_prep import text_prosessing\n",
    "data['cuisines'] = data['cuisines'].apply(text_prosessing)"
   ]
  },
  {
   "cell_type": "code",
   "execution_count": null,
   "metadata": {},
   "outputs": [],
   "source": [
    "data.to_csv('data/dss_data_prep.csv', index=False)"
   ]
  },
  {
   "cell_type": "code",
   "execution_count": null,
   "metadata": {},
   "outputs": [],
   "source": [
    "data_new = data[['name','avgpoint','avg_price','num_reviews']].copy()"
   ]
  },
  {
   "cell_type": "code",
   "execution_count": null,
   "metadata": {},
   "outputs": [
    {
     "data": {
      "text/html": [
       "<div>\n",
       "<style scoped>\n",
       "    .dataframe tbody tr th:only-of-type {\n",
       "        vertical-align: middle;\n",
       "    }\n",
       "\n",
       "    .dataframe tbody tr th {\n",
       "        vertical-align: top;\n",
       "    }\n",
       "\n",
       "    .dataframe thead th {\n",
       "        text-align: right;\n",
       "    }\n",
       "</style>\n",
       "<table border=\"1\" class=\"dataframe\">\n",
       "  <thead>\n",
       "    <tr style=\"text-align: right;\">\n",
       "      <th></th>\n",
       "      <th>name</th>\n",
       "      <th>avgpoint</th>\n",
       "      <th>avg_price</th>\n",
       "      <th>num_reviews</th>\n",
       "    </tr>\n",
       "  </thead>\n",
       "  <tbody>\n",
       "    <tr>\n",
       "      <th>0</th>\n",
       "      <td>Sushi Garden</td>\n",
       "      <td>7.2</td>\n",
       "      <td>100000.0</td>\n",
       "      <td>67</td>\n",
       "    </tr>\n",
       "    <tr>\n",
       "      <th>1</th>\n",
       "      <td>Cuốn N Roll Restaurant - Giảng Võ</td>\n",
       "      <td>7.1</td>\n",
       "      <td>254000.0</td>\n",
       "      <td>64</td>\n",
       "    </tr>\n",
       "    <tr>\n",
       "      <th>2</th>\n",
       "      <td>Mì Gia Tiến Đạt</td>\n",
       "      <td>7.6</td>\n",
       "      <td>37500.0</td>\n",
       "      <td>18</td>\n",
       "    </tr>\n",
       "    <tr>\n",
       "      <th>3</th>\n",
       "      <td>Phở Gà 95 - Doãn Kế Thiện</td>\n",
       "      <td>7.0</td>\n",
       "      <td>37500.0</td>\n",
       "      <td>1</td>\n",
       "    </tr>\n",
       "    <tr>\n",
       "      <th>4</th>\n",
       "      <td>Bánh Cuốn Phủ Lý - Đào Duy Từ</td>\n",
       "      <td>7.0</td>\n",
       "      <td>42500.0</td>\n",
       "      <td>9</td>\n",
       "    </tr>\n",
       "  </tbody>\n",
       "</table>\n",
       "</div>"
      ],
      "text/plain": [
       "                                name  avgpoint  avg_price  num_reviews\n",
       "0                       Sushi Garden       7.2   100000.0           67\n",
       "1  Cuốn N Roll Restaurant - Giảng Võ       7.1   254000.0           64\n",
       "2                    Mì Gia Tiến Đạt       7.6    37500.0           18\n",
       "3          Phở Gà 95 - Doãn Kế Thiện       7.0    37500.0            1\n",
       "4      Bánh Cuốn Phủ Lý - Đào Duy Từ       7.0    42500.0            9"
      ]
     },
     "metadata": {},
     "output_type": "display_data"
    }
   ],
   "source": [
    "data_new.head()"
   ]
  },
  {
   "cell_type": "code",
   "execution_count": null,
   "metadata": {},
   "outputs": [],
   "source": [
    "data_new = data_new[data_new['num_reviews'] >= 10]\n",
    "data_new = data_new.reset_index(drop=True)"
   ]
  },
  {
   "cell_type": "code",
   "execution_count": null,
   "metadata": {},
   "outputs": [
    {
     "data": {
      "text/html": [
       "<div>\n",
       "<style scoped>\n",
       "    .dataframe tbody tr th:only-of-type {\n",
       "        vertical-align: middle;\n",
       "    }\n",
       "\n",
       "    .dataframe tbody tr th {\n",
       "        vertical-align: top;\n",
       "    }\n",
       "\n",
       "    .dataframe thead th {\n",
       "        text-align: right;\n",
       "    }\n",
       "</style>\n",
       "<table border=\"1\" class=\"dataframe\">\n",
       "  <thead>\n",
       "    <tr style=\"text-align: right;\">\n",
       "      <th></th>\n",
       "      <th>name</th>\n",
       "      <th>avgpoint</th>\n",
       "      <th>avg_price</th>\n",
       "      <th>num_reviews</th>\n",
       "    </tr>\n",
       "  </thead>\n",
       "  <tbody>\n",
       "    <tr>\n",
       "      <th>0</th>\n",
       "      <td>Sushi Garden</td>\n",
       "      <td>7.2</td>\n",
       "      <td>100000.0</td>\n",
       "      <td>67</td>\n",
       "    </tr>\n",
       "    <tr>\n",
       "      <th>1</th>\n",
       "      <td>Cuốn N Roll Restaurant - Giảng Võ</td>\n",
       "      <td>7.1</td>\n",
       "      <td>254000.0</td>\n",
       "      <td>64</td>\n",
       "    </tr>\n",
       "    <tr>\n",
       "      <th>2</th>\n",
       "      <td>Mì Gia Tiến Đạt</td>\n",
       "      <td>7.6</td>\n",
       "      <td>37500.0</td>\n",
       "      <td>18</td>\n",
       "    </tr>\n",
       "    <tr>\n",
       "      <th>3</th>\n",
       "      <td>The Alley - Trà Sữa Đài Loan - Khúc Thừa Dụ</td>\n",
       "      <td>6.5</td>\n",
       "      <td>55500.0</td>\n",
       "      <td>13</td>\n",
       "    </tr>\n",
       "    <tr>\n",
       "      <th>4</th>\n",
       "      <td>Hải Sản Hương Lan - Nghĩa Dũng</td>\n",
       "      <td>6.5</td>\n",
       "      <td>127500.0</td>\n",
       "      <td>107</td>\n",
       "    </tr>\n",
       "    <tr>\n",
       "      <th>...</th>\n",
       "      <td>...</td>\n",
       "      <td>...</td>\n",
       "      <td>...</td>\n",
       "      <td>...</td>\n",
       "    </tr>\n",
       "    <tr>\n",
       "      <th>356</th>\n",
       "      <td>Gateaux De Mia - Tiệm Bánh Mia - Shop Online</td>\n",
       "      <td>7.5</td>\n",
       "      <td>300000.0</td>\n",
       "      <td>55</td>\n",
       "    </tr>\n",
       "    <tr>\n",
       "      <th>357</th>\n",
       "      <td>Aaron9 - Grill &amp; Smoked Turkey - Đào Duy Từ</td>\n",
       "      <td>8.7</td>\n",
       "      <td>164000.0</td>\n",
       "      <td>16</td>\n",
       "    </tr>\n",
       "    <tr>\n",
       "      <th>358</th>\n",
       "      <td>Cộng Cà Phê - Hàng Điếu</td>\n",
       "      <td>7.1</td>\n",
       "      <td>35000.0</td>\n",
       "      <td>21</td>\n",
       "    </tr>\n",
       "    <tr>\n",
       "      <th>359</th>\n",
       "      <td>Hạnh - Hải Sản Tươi Sống</td>\n",
       "      <td>3.7</td>\n",
       "      <td>75000.0</td>\n",
       "      <td>10</td>\n",
       "    </tr>\n",
       "    <tr>\n",
       "      <th>360</th>\n",
       "      <td>Phở Cường - Hàng Muối</td>\n",
       "      <td>6.6</td>\n",
       "      <td>29000.0</td>\n",
       "      <td>33</td>\n",
       "    </tr>\n",
       "  </tbody>\n",
       "</table>\n",
       "<p>361 rows × 4 columns</p>\n",
       "</div>"
      ],
      "text/plain": [
       "                                             name  avgpoint  avg_price  \\\n",
       "0                                    Sushi Garden       7.2   100000.0   \n",
       "1               Cuốn N Roll Restaurant - Giảng Võ       7.1   254000.0   \n",
       "2                                 Mì Gia Tiến Đạt       7.6    37500.0   \n",
       "3     The Alley - Trà Sữa Đài Loan - Khúc Thừa Dụ       6.5    55500.0   \n",
       "4                  Hải Sản Hương Lan - Nghĩa Dũng       6.5   127500.0   \n",
       "..                                            ...       ...        ...   \n",
       "356  Gateaux De Mia - Tiệm Bánh Mia - Shop Online       7.5   300000.0   \n",
       "357   Aaron9 - Grill & Smoked Turkey - Đào Duy Từ       8.7   164000.0   \n",
       "358                       Cộng Cà Phê - Hàng Điếu       7.1    35000.0   \n",
       "359                      Hạnh - Hải Sản Tươi Sống       3.7    75000.0   \n",
       "360                         Phở Cường - Hàng Muối       6.6    29000.0   \n",
       "\n",
       "     num_reviews  \n",
       "0             67  \n",
       "1             64  \n",
       "2             18  \n",
       "3             13  \n",
       "4            107  \n",
       "..           ...  \n",
       "356           55  \n",
       "357           16  \n",
       "358           21  \n",
       "359           10  \n",
       "360           33  \n",
       "\n",
       "[361 rows x 4 columns]"
      ]
     },
     "metadata": {},
     "output_type": "display_data"
    }
   ],
   "source": [
    "data_new"
   ]
  },
  {
   "cell_type": "code",
   "execution_count": null,
   "metadata": {},
   "outputs": [],
   "source": [
    "data_new.to_csv('data/topsis_data.csv',index=False)"
   ]
  },
  {
   "cell_type": "markdown",
   "metadata": {},
   "source": [
    "<h3> Transform string into time dtype </h3>"
   ]
  },
  {
   "cell_type": "code",
   "execution_count": null,
   "metadata": {},
   "outputs": [],
   "source": [
    "from datetime import datetime\n",
    "def timeTransform(data):\n",
    "    data['time_open'].head(2)\n",
    "    data_new = data.copy()\n",
    "    data_new[['time1','time2']] = data_new['time_open'].str.split('|',1, expand = True)\n",
    "    data_new[[\"start_time1\",\"end_time1\"]] = data_new[\"time1\"].str.split('-', 1, expand=True)\n",
    "    data_new[[\"start_time2\",\"end_time2\"]] = data_new[\"time2\"].str.split('-', 1, expand=True)\n",
    "    data_new[\"start_time1\"] = data_new[\"start_time1\"].str.split().str.join(' ')\n",
    "    data_new[\"start_time2\"] = data_new[\"start_time1\"].str.split().str.join(' ')\n",
    "    data_new[\"end_time1\"] = data_new[\"end_time1\"].str.split().str.join(' ')\n",
    "    data_new[\"end_time2\"] = data_new[\"end_time2\"].str.split().str.join(' ')\n",
    "    for i in range(data_new.shape[0]):\n",
    "        try:\n",
    "            try: \n",
    "                data_new[\"start_time2\"].iloc[i] = datetime.strptime(data_new[\"start_time2\"].iloc[i], '%H:%M').time()\n",
    "                data_new[\"end_time2\"].iloc[i] = datetime.strptime(data_new[\"end_time2\"].iloc[i], '%H:%M').time()\n",
    "            finally: \n",
    "                data_new[\"start_time1\"].iloc[i] = datetime.strptime(data_new[\"start_time1\"].iloc[i], '%H:%M').time()\n",
    "                data_new[\"end_time1\"].iloc[i] = datetime.strptime(data_new[\"end_time1\"].iloc[i], '%H:%M').time()\n",
    "        except: continue\n",
    "    return data_new\n"
   ]
  },
  {
   "cell_type": "code",
   "execution_count": null,
   "metadata": {},
   "outputs": [
    {
     "data": {
      "text/plain": [
       "datetime.time"
      ]
     },
     "metadata": {},
     "output_type": "display_data"
    }
   ],
   "source": [
    "type(data_new['start_time1'].iloc[1])"
   ]
  }
 ],
 "metadata": {
  "kernelspec": {
   "display_name": "my_env",
   "language": "python",
   "name": "python3"
  },
  "language_info": {
   "name": "python",
   "version": "3.7.0"
  },
  "orig_nbformat": 4,
  "vscode": {
   "interpreter": {
    "hash": "af569f07f8f4b728e2d3549964d81903460ec85a7960a8e60ed19cdcb6867657"
   }
  }
 },
 "nbformat": 4,
 "nbformat_minor": 2
}
